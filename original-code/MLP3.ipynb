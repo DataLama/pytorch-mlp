{
 "cells": [
  {
   "cell_type": "code",
   "execution_count": 1,
   "metadata": {
    "colab": {
     "base_uri": "https://localhost:8080/",
     "height": 1000
    },
    "colab_type": "code",
    "id": "iftzbki813IK",
    "outputId": "52447e6a-6299-485f-8aa3-2a3451fac0d5"
   },
   "outputs": [
    {
     "name": "stdout",
     "output_type": "stream",
     "text": [
      "Python 3.6.9\n",
      "Tue Apr 28 12:53:30 2020       \n",
      "+-----------------------------------------------------------------------------+\n",
      "| NVIDIA-SMI 440.64.00    Driver Version: 418.67       CUDA Version: 10.1     |\n",
      "|-------------------------------+----------------------+----------------------+\n",
      "| GPU  Name        Persistence-M| Bus-Id        Disp.A | Volatile Uncorr. ECC |\n",
      "| Fan  Temp  Perf  Pwr:Usage/Cap|         Memory-Usage | GPU-Util  Compute M. |\n",
      "|===============================+======================+======================|\n",
      "|   0  Tesla P100-PCIE...  Off  | 00000000:00:04.0 Off |                    0 |\n",
      "| N/A   34C    P0    26W / 250W |      0MiB / 16280MiB |      0%      Default |\n",
      "+-------------------------------+----------------------+----------------------+\n",
      "                                                                               \n",
      "+-----------------------------------------------------------------------------+\n",
      "| Processes:                                                       GPU Memory |\n",
      "|  GPU       PID   Type   Process name                             Usage      |\n",
      "|=============================================================================|\n",
      "|  No running processes found                                                 |\n",
      "+-----------------------------------------------------------------------------+\n",
      "Get:1 https://cloud.r-project.org/bin/linux/ubuntu bionic-cran35/ InRelease [3,626 B]\n",
      "Ign:2 https://developer.download.nvidia.com/compute/cuda/repos/ubuntu1804/x86_64  InRelease\n",
      "Get:3 https://cloud.r-project.org/bin/linux/ubuntu bionic-cran35/ Packages [89.3 kB]\n",
      "Get:4 http://security.ubuntu.com/ubuntu bionic-security InRelease [88.7 kB]\n",
      "Ign:5 https://developer.download.nvidia.com/compute/machine-learning/repos/ubuntu1804/x86_64  InRelease\n",
      "Hit:6 https://developer.download.nvidia.com/compute/cuda/repos/ubuntu1804/x86_64  Release\n",
      "Hit:7 https://developer.download.nvidia.com/compute/machine-learning/repos/ubuntu1804/x86_64  Release\n",
      "Get:8 http://ppa.launchpad.net/graphics-drivers/ppa/ubuntu bionic InRelease [21.3 kB]\n",
      "Hit:9 http://archive.ubuntu.com/ubuntu bionic InRelease\n",
      "Get:12 http://archive.ubuntu.com/ubuntu bionic-updates InRelease [88.7 kB]\n",
      "Get:13 http://ppa.launchpad.net/marutter/c2d4u3.5/ubuntu bionic InRelease [15.4 kB]\n",
      "Get:14 http://security.ubuntu.com/ubuntu bionic-security/restricted amd64 Packages [44.6 kB]\n",
      "Get:15 http://security.ubuntu.com/ubuntu bionic-security/universe amd64 Packages [839 kB]\n",
      "Get:16 http://archive.ubuntu.com/ubuntu bionic-backports InRelease [74.6 kB]\n",
      "Get:17 http://ppa.launchpad.net/graphics-drivers/ppa/ubuntu bionic/main amd64 Packages [37.4 kB]\n",
      "Get:18 http://archive.ubuntu.com/ubuntu bionic-updates/multiverse amd64 Packages [12.6 kB]\n",
      "Get:19 http://archive.ubuntu.com/ubuntu bionic-updates/restricted amd64 Packages [59.0 kB]\n",
      "Get:20 http://archive.ubuntu.com/ubuntu bionic-updates/universe amd64 Packages [1,372 kB]\n",
      "Get:21 http://security.ubuntu.com/ubuntu bionic-security/multiverse amd64 Packages [8,213 B]\n",
      "Get:22 http://security.ubuntu.com/ubuntu bionic-security/main amd64 Packages [889 kB]\n",
      "Get:23 http://ppa.launchpad.net/marutter/c2d4u3.5/ubuntu bionic/main Sources [1,811 kB]\n",
      "Get:24 http://archive.ubuntu.com/ubuntu bionic-updates/main amd64 Packages [1,184 kB]\n",
      "Get:25 http://archive.ubuntu.com/ubuntu bionic-backports/main amd64 Packages [8,286 B]\n",
      "Get:26 http://archive.ubuntu.com/ubuntu bionic-backports/universe amd64 Packages [7,671 B]\n",
      "Get:27 http://ppa.launchpad.net/marutter/c2d4u3.5/ubuntu bionic/main amd64 Packages [874 kB]\n",
      "Fetched 7,529 kB in 7s (1,104 kB/s)\n",
      "Reading package lists... Done\n",
      "Reading package lists... Done\n",
      "Building dependency tree       \n",
      "Reading state information... Done\n",
      "g++ is already the newest version (4:7.4.0-1ubuntu2.3).\n",
      "g++ set to manually installed.\n",
      "The following additional packages will be installed:\n",
      "  fonts-dejavu-core fonts-dejavu-extra libatk-wrapper-java\n",
      "  libatk-wrapper-java-jni libxxf86dga1 openjdk-8-jdk-headless openjdk-8-jre\n",
      "  openjdk-8-jre-headless x11-utils\n",
      "Suggested packages:\n",
      "  openjdk-8-demo openjdk-8-source visualvm icedtea-8-plugin libnss-mdns\n",
      "  fonts-ipafont-gothic fonts-ipafont-mincho fonts-wqy-microhei\n",
      "  fonts-wqy-zenhei fonts-indic mesa-utils\n",
      "The following NEW packages will be installed:\n",
      "  fonts-dejavu-core fonts-dejavu-extra libatk-wrapper-java\n",
      "  libatk-wrapper-java-jni libxxf86dga1 openjdk-8-jdk openjdk-8-jre x11-utils\n",
      "The following packages will be upgraded:\n",
      "  openjdk-8-jdk-headless openjdk-8-jre-headless\n",
      "2 upgraded, 8 newly installed, 0 to remove and 95 not upgraded.\n",
      "Need to get 40.7 MB of archives.\n",
      "After this operation, 13.6 MB of additional disk space will be used.\n",
      "Get:1 http://archive.ubuntu.com/ubuntu bionic/main amd64 libxxf86dga1 amd64 2:1.1.4-1 [13.7 kB]\n",
      "Get:2 http://archive.ubuntu.com/ubuntu bionic/main amd64 fonts-dejavu-core all 2.37-1 [1,041 kB]\n",
      "Get:3 http://archive.ubuntu.com/ubuntu bionic/main amd64 fonts-dejavu-extra all 2.37-1 [1,953 kB]\n",
      "Get:4 http://archive.ubuntu.com/ubuntu bionic/main amd64 x11-utils amd64 7.7+3build1 [196 kB]\n",
      "Get:5 http://archive.ubuntu.com/ubuntu bionic/main amd64 libatk-wrapper-java all 0.33.3-20ubuntu0.1 [34.7 kB]\n",
      "Get:6 http://archive.ubuntu.com/ubuntu bionic/main amd64 libatk-wrapper-java-jni amd64 0.33.3-20ubuntu0.1 [28.3 kB]\n",
      "Get:7 http://archive.ubuntu.com/ubuntu bionic-updates/universe amd64 openjdk-8-jdk-headless amd64 8u252-b09-1~18.04 [8,250 kB]\n",
      "Get:8 http://archive.ubuntu.com/ubuntu bionic-updates/universe amd64 openjdk-8-jre-headless amd64 8u252-b09-1~18.04 [27.5 MB]\n",
      "Get:9 http://archive.ubuntu.com/ubuntu bionic-updates/universe amd64 openjdk-8-jre amd64 8u252-b09-1~18.04 [69.8 kB]\n",
      "Get:10 http://archive.ubuntu.com/ubuntu bionic-updates/universe amd64 openjdk-8-jdk amd64 8u252-b09-1~18.04 [1,622 kB]\n",
      "Fetched 40.7 MB in 6s (6,841 kB/s)\n",
      "Selecting previously unselected package libxxf86dga1:amd64.\n",
      "(Reading database ... 144568 files and directories currently installed.)\n",
      "Preparing to unpack .../0-libxxf86dga1_2%3a1.1.4-1_amd64.deb ...\n",
      "Unpacking libxxf86dga1:amd64 (2:1.1.4-1) ...\n",
      "Selecting previously unselected package fonts-dejavu-core.\n",
      "Preparing to unpack .../1-fonts-dejavu-core_2.37-1_all.deb ...\n",
      "Unpacking fonts-dejavu-core (2.37-1) ...\n",
      "Selecting previously unselected package fonts-dejavu-extra.\n",
      "Preparing to unpack .../2-fonts-dejavu-extra_2.37-1_all.deb ...\n",
      "Unpacking fonts-dejavu-extra (2.37-1) ...\n",
      "Selecting previously unselected package x11-utils.\n",
      "Preparing to unpack .../3-x11-utils_7.7+3build1_amd64.deb ...\n",
      "Unpacking x11-utils (7.7+3build1) ...\n",
      "Selecting previously unselected package libatk-wrapper-java.\n",
      "Preparing to unpack .../4-libatk-wrapper-java_0.33.3-20ubuntu0.1_all.deb ...\n",
      "Unpacking libatk-wrapper-java (0.33.3-20ubuntu0.1) ...\n",
      "Selecting previously unselected package libatk-wrapper-java-jni:amd64.\n",
      "Preparing to unpack .../5-libatk-wrapper-java-jni_0.33.3-20ubuntu0.1_amd64.deb ...\n",
      "Unpacking libatk-wrapper-java-jni:amd64 (0.33.3-20ubuntu0.1) ...\n",
      "Preparing to unpack .../6-openjdk-8-jdk-headless_8u252-b09-1~18.04_amd64.deb ...\n",
      "Unpacking openjdk-8-jdk-headless:amd64 (8u252-b09-1~18.04) over (8u242-b08-0ubuntu3~18.04) ...\n",
      "Preparing to unpack .../7-openjdk-8-jre-headless_8u252-b09-1~18.04_amd64.deb ...\n",
      "Unpacking openjdk-8-jre-headless:amd64 (8u252-b09-1~18.04) over (8u242-b08-0ubuntu3~18.04) ...\n",
      "Selecting previously unselected package openjdk-8-jre:amd64.\n",
      "Preparing to unpack .../8-openjdk-8-jre_8u252-b09-1~18.04_amd64.deb ...\n",
      "Unpacking openjdk-8-jre:amd64 (8u252-b09-1~18.04) ...\n",
      "Selecting previously unselected package openjdk-8-jdk:amd64.\n",
      "Preparing to unpack .../9-openjdk-8-jdk_8u252-b09-1~18.04_amd64.deb ...\n",
      "Unpacking openjdk-8-jdk:amd64 (8u252-b09-1~18.04) ...\n",
      "Setting up fonts-dejavu-core (2.37-1) ...\n",
      "Setting up libxxf86dga1:amd64 (2:1.1.4-1) ...\n",
      "Setting up fonts-dejavu-extra (2.37-1) ...\n",
      "Setting up openjdk-8-jre-headless:amd64 (8u252-b09-1~18.04) ...\n",
      "Installing new version of config file /etc/java-8-openjdk/security/java.security ...\n",
      "Setting up openjdk-8-jdk-headless:amd64 (8u252-b09-1~18.04) ...\n",
      "Setting up x11-utils (7.7+3build1) ...\n",
      "Setting up libatk-wrapper-java (0.33.3-20ubuntu0.1) ...\n",
      "Setting up libatk-wrapper-java-jni:amd64 (0.33.3-20ubuntu0.1) ...\n",
      "Setting up openjdk-8-jre:amd64 (8u252-b09-1~18.04) ...\n",
      "update-alternatives: using /usr/lib/jvm/java-8-openjdk-amd64/jre/bin/policytool to provide /usr/bin/policytool (policytool) in auto mode\n",
      "Setting up openjdk-8-jdk:amd64 (8u252-b09-1~18.04) ...\n",
      "update-alternatives: using /usr/lib/jvm/java-8-openjdk-amd64/bin/appletviewer to provide /usr/bin/appletviewer (appletviewer) in auto mode\n",
      "update-alternatives: using /usr/lib/jvm/java-8-openjdk-amd64/bin/jconsole to provide /usr/bin/jconsole (jconsole) in auto mode\n",
      "Processing triggers for man-db (2.8.3-2ubuntu0.1) ...\n",
      "Processing triggers for hicolor-icon-theme (0.17-2) ...\n",
      "Processing triggers for fontconfig (2.12.6-0ubuntu2) ...\n",
      "Processing triggers for mime-support (3.60ubuntu1) ...\n",
      "Processing triggers for libc-bin (2.27-3ubuntu1) ...\n",
      "/sbin/ldconfig.real: /usr/local/lib/python3.6/dist-packages/ideep4py/lib/libmkldnn.so.0 is not a symbolic link\n",
      "\n"
     ]
    }
   ],
   "source": [
    "!python --version\n",
    "!nvidia-smi\n",
    "!apt-get update\n",
    "!apt-get install openjdk-8-jdk"
   ]
  },
  {
   "cell_type": "code",
   "execution_count": 2,
   "metadata": {
    "colab": {
     "base_uri": "https://localhost:8080/",
     "height": 68
    },
    "colab_type": "code",
    "id": "R8t1OT6R2Bbl",
    "outputId": "2f166d93-6d2a-4f18-e1f0-4dc2bb9a34fb"
   },
   "outputs": [
    {
     "name": "stdout",
     "output_type": "stream",
     "text": [
      "openjdk 11.0.6 2020-01-14\n",
      "OpenJDK Runtime Environment (build 11.0.6+10-post-Ubuntu-1ubuntu118.04.1)\n",
      "OpenJDK 64-Bit Server VM (build 11.0.6+10-post-Ubuntu-1ubuntu118.04.1, mixed mode)\n"
     ]
    }
   ],
   "source": [
    "!java --version"
   ]
  },
  {
   "cell_type": "code",
   "execution_count": 3,
   "metadata": {
    "colab": {
     "base_uri": "https://localhost:8080/",
     "height": 173
    },
    "colab_type": "code",
    "id": "RhpKRwx_2Icw",
    "outputId": "b99f1640-1eb8-400f-b9ca-bc15910ecb42"
   },
   "outputs": [
    {
     "name": "stdout",
     "output_type": "stream",
     "text": [
      "Collecting PyKomoran\n",
      "\u001b[?25l  Downloading https://files.pythonhosted.org/packages/23/b0/ce6a46f311651ed64c39beb1cfe1c39a9906521139ace45430d08c489b62/PyKomoran-0.1.5-py3-none-any.whl (7.9MB)\n",
      "\u001b[K     |████████████████████████████████| 7.9MB 395kB/s \n",
      "\u001b[?25hCollecting py4j==0.10.8.1\n",
      "\u001b[?25l  Downloading https://files.pythonhosted.org/packages/04/de/2d314a921ef4c20b283e1de94e0780273678caac901564df06b948e4ba9b/py4j-0.10.8.1-py2.py3-none-any.whl (196kB)\n",
      "\u001b[K     |████████████████████████████████| 204kB 38.8MB/s \n",
      "\u001b[?25hInstalling collected packages: py4j, PyKomoran\n",
      "Successfully installed PyKomoran-0.1.5 py4j-0.10.8.1\n"
     ]
    }
   ],
   "source": [
    "!pip install PyKomoran"
   ]
  },
  {
   "cell_type": "code",
   "execution_count": 4,
   "metadata": {
    "colab": {
     "base_uri": "https://localhost:8080/",
     "height": 105
    },
    "colab_type": "code",
    "id": "igTn7qWE2h0m",
    "outputId": "87f42ff4-347b-428c-b061-9a9c697baa04"
   },
   "outputs": [
    {
     "name": "stdout",
     "output_type": "stream",
     "text": [
      "Requirement already up-to-date: scikit-learn in /usr/local/lib/python3.6/dist-packages (0.22.2.post1)\n",
      "Requirement already satisfied, skipping upgrade: scipy>=0.17.0 in /usr/local/lib/python3.6/dist-packages (from scikit-learn) (1.4.1)\n",
      "Requirement already satisfied, skipping upgrade: numpy>=1.11.0 in /usr/local/lib/python3.6/dist-packages (from scikit-learn) (1.18.3)\n",
      "Requirement already satisfied, skipping upgrade: joblib>=0.11 in /usr/local/lib/python3.6/dist-packages (from scikit-learn) (0.14.1)\n"
     ]
    }
   ],
   "source": [
    "!pip install -U scikit-learn"
   ]
  },
  {
   "cell_type": "code",
   "execution_count": null,
   "metadata": {
    "colab": {},
    "colab_type": "code",
    "id": "sdGUUFbG2kPI"
   },
   "outputs": [],
   "source": [
    "from PyKomoran import *\n",
    "komoran=Komoran(\"EXP\")"
   ]
  },
  {
   "cell_type": "code",
   "execution_count": null,
   "metadata": {
    "colab": {},
    "colab_type": "code",
    "id": "yr7cMM6i2mG4"
   },
   "outputs": [],
   "source": [
    "import numpy as np\n",
    "import random\n",
    "import torch\n",
    "import json\n",
    "from sklearn.feature_extraction.text import TfidfVectorizer\n",
    "from sklearn.metrics import confusion_matrix, accuracy_score, precision_score, recall_score, fbeta_score, f1_score"
   ]
  },
  {
   "cell_type": "code",
   "execution_count": null,
   "metadata": {
    "colab": {},
    "colab_type": "code",
    "id": "Qi9QzDVW2wAP"
   },
   "outputs": [],
   "source": [
    "def set_seed():\n",
    "  random.seed(777)\n",
    "  np.random.seed(777)\n",
    "  torch.manual_seed(777)\n",
    "  if torch.cuda.is_available():\n",
    "    torch.cuda.manual_seed_all(777)\n",
    "  set_seed()"
   ]
  },
  {
   "cell_type": "code",
   "execution_count": null,
   "metadata": {
    "colab": {},
    "colab_type": "code",
    "id": "5l8TpR1T2zYy"
   },
   "outputs": [],
   "source": [
    "#label list, mapping dict\n",
    "label_list=['opening', 'request', 'wh-question', 'yn-question', 'inform', 'affirm', 'ack', 'expressive']\n",
    "label_map = {label: i for i, label in enumerate(label_list)}\n",
    "\n",
    "train_tfidf_list=list()\n",
    "train_label_list=list()\n",
    "test_tifdif_list=list()\n",
    "test_label_list=list()"
   ]
  },
  {
   "cell_type": "code",
   "execution_count": null,
   "metadata": {
    "colab": {},
    "colab_type": "code",
    "id": "NWsZvsEc27Wr"
   },
   "outputs": [],
   "source": [
    "#train_data\n",
    "with open('/content/drive/My Drive/Colab Notebooks/SpeechAct_tr.json') as json_file:\n",
    "    tr_json_data=json.load(json_file)\n",
    "\n",
    "tr_corpus=list()\n",
    "for i in tr_json_data:\n",
    "    if len(tr_json_data[i])==0:\n",
    "        continue\n",
    "    for j in range(len(tr_json_data[i])):\n",
    "        tr_txt=tr_json_data[i][j][1]\n",
    "        tr_corpus.append(tr_txt)\n",
    "\n",
    "        tr_label=tr_json_data[i][j][2]\n",
    "        train_label_list.append(label_map[tr_label])\n",
    "\n",
    "tr_pos_list=list()\n",
    "for sentence in tr_corpus:\n",
    "    tr_pos_list.append('   '.join(komoran.get_morphes_by_tags(sentence, tag_list=['NNP', 'NNG', 'VV'])))\n",
    "\n",
    "tfidfvect=TfidfVectorizer(token_pattern='(?u)\\\\b\\\\w+\\\\b')\n",
    "tfidfvect.fit_transform(tr_pos_list)\n",
    "train_tfidf_list = tfidfvect.transform(tr_pos_list).toarray().tolist()\n"
   ]
  },
  {
   "cell_type": "code",
   "execution_count": null,
   "metadata": {
    "colab": {},
    "colab_type": "code",
    "id": "H9UXiptW29gT"
   },
   "outputs": [],
   "source": [
    "#test_data\n",
    "with open('/content/drive/My Drive/Colab Notebooks/SpeechAct_te.json') as json_file:\n",
    "    te_json_data=json.load(json_file)\n",
    "\n",
    "te_corpus=list()\n",
    "\n",
    "for i in te_json_data:\n",
    "    if len(te_json_data[i])==0:\n",
    "        continue\n",
    "    for j in range(len(te_json_data[i])):\n",
    "        te_txt=te_json_data[i][j][1]\n",
    "        te_corpus.append(te_txt)\n",
    "\n",
    "        te_label = te_json_data[i][j][2]\n",
    "        test_label_list.append(label_map[te_label])\n",
    "\n",
    "\n",
    "te_pos_list=list()\n",
    "for sentence in te_corpus:\n",
    "    te_pos_list.append('   '.join(komoran.get_morphes_by_tags(sentence, tag_list=['NNP', 'NNG', 'VV'])))\n",
    "\n",
    "test_tfidf_list = tfidfvect.transform(te_pos_list).toarray().tolist()\n"
   ]
  },
  {
   "cell_type": "code",
   "execution_count": 12,
   "metadata": {
    "colab": {
     "base_uri": "https://localhost:8080/",
     "height": 85
    },
    "colab_type": "code",
    "id": "rCIKwjM33YwI",
    "outputId": "5847b47b-3da5-4ec4-96e0-57b7752c9562"
   },
   "outputs": [
    {
     "name": "stdout",
     "output_type": "stream",
     "text": [
      "(5825,)\n",
      "(5825, 743)\n",
      "(6671,)\n",
      "(6671, 743)\n"
     ]
    }
   ],
   "source": [
    "train_tfidf_tensor = torch.tensor(train_tfidf_list)\n",
    "train_label_tensor = torch.tensor(train_label_list)\n",
    "test_tfidf_tensor = torch.tensor(test_tfidf_list)\n",
    "test_label_tensor = torch.tensor(test_label_list)\n",
    "\n",
    "print(np.array(train_label_tensor).shape)\n",
    "print(np.array(train_tfidf_tensor).shape)\n",
    "print(np.array(test_label_tensor).shape)\n",
    "print(np.array(test_tfidf_tensor).shape)"
   ]
  },
  {
   "cell_type": "code",
   "execution_count": null,
   "metadata": {
    "colab": {},
    "colab_type": "code",
    "id": "OeLGQWWy3h14"
   },
   "outputs": [],
   "source": [
    "#device, model\n",
    "class Perceptron(torch.nn.Module):\n",
    "    def __init__(self, tfidf_size, num_label):\n",
    "        super(Perceptron, self).__init__()\n",
    "        self.linear1 = torch.nn.Linear(tfidf_size, 100)\n",
    "        self.tanh1 = torch.nn.Tanh()\n",
    "        self.linear2 = torch.nn.Linear(100, 8)\n",
    "        self.tanh2 = torch.nn.Tanh()\n",
    "        self.linear3 = torch.nn.Linear(8, num_label)\n",
    "\n",
    "    def forward(self, tfidf_input):\n",
    "        y_pred = self.linear1(tfidf_input)\n",
    "        y_pred = self.tanh1(y_pred)\n",
    "        y_pred = self.linear2(y_pred)\n",
    "        y_pred = self.tanh2(y_pred)\n",
    "        y_pred = self.linear3(y_pred)\n",
    "\n",
    "        return y_pred\n",
    "\n",
    "device = torch.device(\"cuda\" if torch.cuda.is_available() else \"cpu\")\n",
    "model = Perceptron(tfidf_size=train_tfidf_tensor.shape[1], num_label=len(label_list))\n",
    "model.to(device)\n",
    "\n",
    "criterion = torch.nn.CrossEntropyLoss()\n",
    "optimizer = torch.optim.Adam(model.parameters(), lr=0.001)\n"
   ]
  },
  {
   "cell_type": "code",
   "execution_count": null,
   "metadata": {
    "colab": {},
    "colab_type": "code",
    "id": "22EsUSwJ3jfw"
   },
   "outputs": [],
   "source": [
    "#데이터 묶기\n",
    "Train_dataset = torch.utils.data.TensorDataset(train_tfidf_tensor, train_label_tensor)\n",
    "Test_dataset = torch.utils.data.TensorDataset(test_tfidf_tensor, test_label_tensor)\n",
    "\n",
    "#batch size 가져와서 학습\n",
    "train_DataLoader = torch.utils.data.DataLoader(Train_dataset, shuffle=True, batch_size=4)\n",
    "test_DataLoader = torch.utils.data.DataLoader(Test_dataset, shuffle=True, batch_size=1)\n"
   ]
  },
  {
   "cell_type": "code",
   "execution_count": 15,
   "metadata": {
    "colab": {
     "base_uri": "https://localhost:8080/",
     "height": 986
    },
    "colab_type": "code",
    "id": "WtVFufWQ3mzo",
    "outputId": "60a4906a-a0e1-484c-a7de-bd31be1f87af"
   },
   "outputs": [
    {
     "name": "stdout",
     "output_type": "stream",
     "text": [
      "9 761.7692991793156\n",
      "19 694.7090155482292\n",
      "29 661.4149908721447\n",
      "39 640.490909665823\n",
      "49 631.57090228796\n",
      "59 621.4489974081516\n",
      "69 611.2208643853664\n",
      "79 603.9289514124393\n",
      "89 602.6429973840714\n",
      "99 592.9190375804901\n",
      "109 588.0474520921707\n",
      "119 586.8347446918488\n",
      "129 579.6622098982334\n",
      "139 574.3480863273144\n",
      "149 572.78947904706\n",
      "159 570.4084937870502\n",
      "169 566.1408340334892\n",
      "179 562.0256187021732\n",
      "189 561.3579222559929\n",
      "199 556.4478017091751\n",
      "209 559.7493894994259\n",
      "219 556.0096945762634\n",
      "229 553.3461147844791\n",
      "239 554.366750985384\n",
      "249 551.2864359915257\n",
      "259 551.054074883461\n",
      "269 546.9404282271862\n",
      "279 544.4051882922649\n",
      "289 539.4135303497314\n",
      "299 537.740945994854\n",
      "309 541.0407440364361\n",
      "319 537.3079856038094\n",
      "329 531.8663809001446\n",
      "339 533.8908667564392\n",
      "349 531.8450900018215\n",
      "359 532.0398041903973\n",
      "369 529.9910282194614\n",
      "379 534.0013992190361\n",
      "389 528.1816258132458\n",
      "399 525.1946561038494\n",
      "409 525.155478656292\n",
      "419 524.9714208245277\n",
      "429 522.5224871337414\n",
      "439 522.5900832116604\n",
      "449 521.534520149231\n",
      "459 520.0296767354012\n",
      "469 521.021012276411\n",
      "479 517.4028252959251\n",
      "489 518.309672743082\n",
      "499 514.0391213297844\n"
     ]
    },
    {
     "data": {
      "text/plain": [
       "Perceptron(\n",
       "  (linear1): Linear(in_features=743, out_features=100, bias=True)\n",
       "  (tanh1): Tanh()\n",
       "  (linear2): Linear(in_features=100, out_features=8, bias=True)\n",
       "  (tanh2): Tanh()\n",
       "  (linear3): Linear(in_features=8, out_features=8, bias=True)\n",
       ")"
      ]
     },
     "execution_count": 15,
     "metadata": {
      "tags": []
     },
     "output_type": "execute_result"
    }
   ],
   "source": [
    "#Train\n",
    "model.train(True)\n",
    "model.zero_grad()\n",
    "for epoch in range(500):\n",
    "    epoch_loss = 0\n",
    "    for batch in train_DataLoader:\n",
    "        batch = tuple(t.to(device) for t in batch)\n",
    "        y_pred = model(batch[0])\n",
    "\n",
    "        loss = criterion(y_pred, batch[1])\n",
    "        epoch_loss += loss.item()\n",
    "\n",
    "        loss.backward()\n",
    "        optimizer.step()\n",
    "        model.zero_grad()\n",
    "\n",
    "    if (epoch+1) % 10 ==0:\n",
    "        print(epoch, epoch_loss)\n",
    "model.train(False)"
   ]
  },
  {
   "cell_type": "code",
   "execution_count": null,
   "metadata": {
    "colab": {},
    "colab_type": "code",
    "id": "DU6F5l2o3ovg"
   },
   "outputs": [],
   "source": [
    "#Test\n",
    "model.eval()\n",
    "pred = None\n",
    "label = None\n",
    "for batch in test_DataLoader:\n",
    "    batch = tuple(t.to(device) for t in batch)\n",
    "\n",
    "    with torch.no_grad():\n",
    "        y_pred = model(batch[0])\n",
    "\n",
    "    if pred is None:\n",
    "        pred = y_pred.detach().cpu().numpy()\n",
    "        label = batch[1].detach().cpu().numpy()\n",
    "    \n",
    "    else:\n",
    "        pred = np.append(pred, y_pred.detach().cpu().numpy(), axis=0)\n",
    "        label = np.append(label, batch[1].detach().cpu().numpy(), axis=0)\n",
    "y_pred = np.argmax(pred, axis=1)"
   ]
  },
  {
   "cell_type": "code",
   "execution_count": 19,
   "metadata": {
    "colab": {
     "base_uri": "https://localhost:8080/",
     "height": 136
    },
    "colab_type": "code",
    "id": "8OnLrZrW3uZm",
    "outputId": "fb7550d7-1032-46df-c145-65f9d923a3a0"
   },
   "outputs": [
    {
     "name": "stdout",
     "output_type": "stream",
     "text": [
      "0.23939439364413131\n",
      "0.12580951397386955\n",
      "0.23939439364413131\n",
      "0.12657416018244055\n",
      "0.23939439364413131\n",
      "0.1259301628410025\n",
      "0.23939439364413131\n"
     ]
    }
   ],
   "source": [
    "matrix=confusion_matrix(test_label_tensor, y_pred)\n",
    "accuracy = accuracy_score(test_label_tensor, y_pred)\n",
    "\n",
    "macro_precision = precision_score(test_label_tensor, y_pred, average='macro')\n",
    "micro_precision = precision_score(test_label_tensor, y_pred, average='micro')\n",
    "\n",
    "macro_recall = recall_score(test_label_tensor, y_pred, average='macro')\n",
    "micro_recall = recall_score(test_label_tensor, y_pred, average='micro')\n",
    "\n",
    "macro_f1 = f1_score(test_label_tensor, y_pred, average='macro')\n",
    "micro_f1 = f1_score(test_label_tensor, y_pred, average='micro')\n",
    "\n",
    "print(accuracy)\n",
    "print(macro_precision)\n",
    "print(micro_precision)\n",
    "print(macro_recall)\n",
    "print(micro_recall)\n",
    "print(macro_f1)\n",
    "print(micro_f1)"
   ]
  },
  {
   "cell_type": "code",
   "execution_count": null,
   "metadata": {
    "colab": {},
    "colab_type": "code",
    "id": "kfrLiBUB5Xcr"
   },
   "outputs": [],
   "source": [
    "fw = open('./2019711894_채나은_MLP.txt','w', encoding='UTF-8')\n",
    "fw.write('Accuracy : '+str(accuracy))\n",
    "fw.write('\\n')\n",
    "fw.write('Macro average precision : '+str(macro_precision))\n",
    "fw.write('Micro average precision : '+str(micro_precision))\n",
    "fw.write('\\n')\n",
    "fw.write('Macro average recall : '+str(macro_recall))\n",
    "fw.write('Micro average recall : '+str(micro_recall))\n",
    "fw.write('\\n')\n",
    "fw.write('Macro average f1-score : '+str(macro_f1))\n",
    "fw.write('Micro average f1-score : '+str(micro_f1))\n",
    "fw.close()"
   ]
  },
  {
   "cell_type": "code",
   "execution_count": null,
   "metadata": {
    "colab": {},
    "colab_type": "code",
    "id": "Lf-C_wwv8qP_"
   },
   "outputs": [],
   "source": []
  }
 ],
 "metadata": {
  "accelerator": "GPU",
  "colab": {
   "machine_shape": "hm",
   "name": "MLP3.ipynb",
   "provenance": []
  },
  "kernelspec": {
   "display_name": "Python 3",
   "language": "python",
   "name": "python3"
  },
  "language_info": {
   "codemirror_mode": {
    "name": "ipython",
    "version": 3
   },
   "file_extension": ".py",
   "mimetype": "text/x-python",
   "name": "python",
   "nbconvert_exporter": "python",
   "pygments_lexer": "ipython3",
   "version": "3.6.9"
  }
 },
 "nbformat": 4,
 "nbformat_minor": 4
}
